{
 "cells": [
  {
   "cell_type": "code",
   "execution_count": 1,
   "id": "2b6b7308-d3b5-440d-821a-4b9cc0845479",
   "metadata": {},
   "outputs": [
    {
     "data": {
      "text/plain": [
       "True"
      ]
     },
     "execution_count": 1,
     "metadata": {},
     "output_type": "execute_result"
    }
   ],
   "source": [
    "from dataclasses import dataclass\n",
    "import sample\n",
    "import json\n",
    "import pandas as pd\n",
    "from solver import perform_one_token_cpc, perform_cot_cpc\n",
    "from solver import perform_one_token_cpc, perform_cot_cpc\n",
    "\n",
    "from llm import LLM\n",
    "from openai import OpenAI\n",
    "\n",
    "from dotenv import load_dotenv\n",
    "load_dotenv()"
   ]
  },
  {
   "cell_type": "markdown",
   "id": "35c956a0-610e-48b7-8b62-bd9e7c6e1673",
   "metadata": {},
   "source": [
    "When the ai considers whether to step back or not, does its one-word answer differ from its CoT answer?"
   ]
  },
  {
   "cell_type": "code",
   "execution_count": 2,
   "id": "19e77680-032e-4a75-bb44-d6490c97c7cf",
   "metadata": {},
   "outputs": [],
   "source": [
    "passages = json.load(open(\"data/passages1.json\"))"
   ]
  },
  {
   "cell_type": "markdown",
   "id": "b8a40399-943e-4679-8cd9-44a330734731",
   "metadata": {},
   "source": [
    "Each 'passage' is a lengthy text where we are reasoning through a problem.\n",
    "Consider progressively larger context parts of each passage (that is, we are 'checking in' as we proceed through reading the passage), and for each context part, ask the LLM if the current approach is working or not."
   ]
  },
  {
   "cell_type": "code",
   "execution_count": null,
   "id": "a3794d34-b144-453f-8132-92a3d70dacc1",
   "metadata": {},
   "outputs": [],
   "source": [
    "# one-row test\n",
    "llm = LLM(\"gpt-3.5-turbo\")\n",
    "for context in sample.checkpoints(passages[\"coding_interviews\"][0], 1000):\n",
    "    one_token_cpc_result = perform_one_token_cpc(llm, context)\n",
    "    (cot_cpc_thoughts, cot_cpc_result) = perform_cot_cpc(llm, context)\n",
    "    print(context.text)\n",
    "    print(one_token_cpc_result)\n",
    "    print(cot_cpc_thoughts)\n",
    "    print(cot_cpc_result)\n",
    "    print()"
   ]
  },
  {
   "cell_type": "code",
   "execution_count": 19,
   "id": "27fbda6e-a21a-4426-85b5-e426b333dbd5",
   "metadata": {},
   "outputs": [],
   "source": [
    "def experiment1(llm, passages):\n",
    "    df = pd.DataFrame(columns=[\"category\", \"context\", \"one_token_cpc_result\", \"cot_cpc_thoughts\", \"cot_cpc_result\"])\n",
    "    for category, passages_list in passages.items():\n",
    "        for passage_index, passage in enumerate(passages_list):\n",
    "            print(f\"Category {category}: passage {passage_index} of {len(passages_list)}...\")\n",
    "            for context in sample.checkpoints(passage, 1000):\n",
    "                one_token_cpc_result = perform_one_token_cpc(llm, context)\n",
    "                (cot_cpc_thoughts, cot_cpc_result) = perform_cot_cpc(llm, context)\n",
    "                df = pd.concat([df, pd.DataFrame(\n",
    "                    {\"category\": category, \"context\": context.text, \"one_token_cpc_result\": one_token_cpc_result,\n",
    "                     \"cot_cpc_thoughts\": cot_cpc_thoughts, \"cot_cpc_result\": cot_cpc_result}, index=[0])],\n",
    "                                        ignore_index=True)\n",
    "    return df"
   ]
  },
  {
   "cell_type": "code",
   "execution_count": 20,
   "id": "aa2ae7ad-4283-4f21-94d3-2b0756cb526d",
   "metadata": {},
   "outputs": [
    {
     "name": "stdout",
     "output_type": "stream",
     "text": [
      "Category proofs: passage 0 of 10...\n",
      "Category proofs: passage 1 of 10...\n",
      "Category proofs: passage 2 of 10...\n",
      "Category proofs: passage 3 of 10...\n",
      "Category proofs: passage 4 of 10...\n",
      "Category proofs: passage 5 of 10...\n",
      "Category proofs: passage 6 of 10...\n",
      "Category proofs: passage 7 of 10...\n",
      "Category proofs: passage 8 of 10...\n",
      "Category proofs: passage 9 of 10...\n",
      "Category coding_interviews: passage 0 of 10...\n",
      "Category coding_interviews: passage 1 of 10...\n",
      "Category coding_interviews: passage 2 of 10...\n",
      "Category coding_interviews: passage 3 of 10...\n",
      "Category coding_interviews: passage 4 of 10...\n",
      "Category coding_interviews: passage 5 of 10...\n",
      "Category coding_interviews: passage 6 of 10...\n",
      "Category coding_interviews: passage 7 of 10...\n",
      "Category coding_interviews: passage 8 of 10...\n",
      "Category coding_interviews: passage 9 of 10...\n",
      "Category proofs: passage 0 of 10...\n",
      "Category proofs: passage 1 of 10...\n",
      "Category proofs: passage 2 of 10...\n",
      "Category proofs: passage 3 of 10...\n",
      "Category proofs: passage 4 of 10...\n",
      "Category proofs: passage 5 of 10...\n",
      "Category proofs: passage 6 of 10...\n",
      "Category proofs: passage 7 of 10...\n",
      "Category proofs: passage 8 of 10...\n",
      "Category proofs: passage 9 of 10...\n",
      "Category coding_interviews: passage 0 of 10...\n",
      "Category coding_interviews: passage 1 of 10...\n",
      "Category coding_interviews: passage 2 of 10...\n",
      "Category coding_interviews: passage 3 of 10...\n",
      "Category coding_interviews: passage 4 of 10...\n",
      "Category coding_interviews: passage 5 of 10...\n",
      "Category coding_interviews: passage 6 of 10...\n",
      "Category coding_interviews: passage 7 of 10...\n",
      "Category coding_interviews: passage 8 of 10...\n",
      "Category coding_interviews: passage 9 of 10...\n"
     ]
    }
   ],
   "source": [
    "experiment1_gpt3 = experiment1(LLM(\"gpt-3.5-turbo\"), passages)\n",
    "experiment1_gpt4 = experiment1(LLM(\"gpt-4\"), passages)"
   ]
  },
  {
   "cell_type": "markdown",
   "id": "4c58355b-04de-4411-a318-c322e7e0c24e",
   "metadata": {},
   "source": [
    "For each result, determine whether the result is good (the two cpc methods agreed) or bad (they disagreed)."
   ]
  },
  {
   "cell_type": "code",
   "execution_count": 21,
   "id": "2b1fefe9-fa91-498c-a20b-9b98121f0338",
   "metadata": {},
   "outputs": [],
   "source": [
    "def score(df):\n",
    "    df[\"score\"] = df.apply(\n",
    "        lambda row: 1.0 if row.one_token_cpc_result.lower() == row.cot_cpc_result.lower() else 0.0, axis=1)\n",
    "    print(df[\"score\"].mean())\n",
    "    return df"
   ]
  },
  {
   "cell_type": "code",
   "execution_count": 23,
   "id": "358550c3-8290-4445-8d43-7bc2025642c0",
   "metadata": {},
   "outputs": [
    {
     "name": "stdout",
     "output_type": "stream",
     "text": [
      "0.7012987012987013\n",
      "0.8311688311688312\n"
     ]
    },
    {
     "data": {
      "text/html": [
       "<div>\n",
       "<style scoped>\n",
       "    .dataframe tbody tr th:only-of-type {\n",
       "        vertical-align: middle;\n",
       "    }\n",
       "\n",
       "    .dataframe tbody tr th {\n",
       "        vertical-align: top;\n",
       "    }\n",
       "\n",
       "    .dataframe thead th {\n",
       "        text-align: right;\n",
       "    }\n",
       "</style>\n",
       "<table border=\"1\" class=\"dataframe\">\n",
       "  <thead>\n",
       "    <tr style=\"text-align: right;\">\n",
       "      <th></th>\n",
       "      <th>category</th>\n",
       "      <th>context</th>\n",
       "      <th>one_token_cpc_result</th>\n",
       "      <th>cot_cpc_thoughts</th>\n",
       "      <th>cot_cpc_result</th>\n",
       "      <th>score</th>\n",
       "    </tr>\n",
       "  </thead>\n",
       "  <tbody>\n",
       "    <tr>\n",
       "      <th>0</th>\n",
       "      <td>proofs</td>\n",
       "      <td>For this problem, I need to prove that for any...</td>\n",
       "      <td>Yes</td>\n",
       "      <td>Yes, it may be easier to use a direct proof to...</td>\n",
       "      <td>No</td>\n",
       "      <td>0.0</td>\n",
       "    </tr>\n",
       "    <tr>\n",
       "      <th>1</th>\n",
       "      <td>proofs</td>\n",
       "      <td>For this problem, I need to prove that for any...</td>\n",
       "      <td>Yes</td>\n",
       "      <td>Yes, it seems like our current approach is not...</td>\n",
       "      <td>No</td>\n",
       "      <td>0.0</td>\n",
       "    </tr>\n",
       "    <tr>\n",
       "      <th>2</th>\n",
       "      <td>proofs</td>\n",
       "      <td>For this problem, I need to prove that for any...</td>\n",
       "      <td>No</td>\n",
       "      <td>No, there is no need to change the approach. T...</td>\n",
       "      <td>No</td>\n",
       "      <td>1.0</td>\n",
       "    </tr>\n",
       "    <tr>\n",
       "      <th>3</th>\n",
       "      <td>proofs</td>\n",
       "      <td>For this problem, I need to prove that for any...</td>\n",
       "      <td>No</td>\n",
       "      <td>There is no need to change to a different appr...</td>\n",
       "      <td>No</td>\n",
       "      <td>1.0</td>\n",
       "    </tr>\n",
       "    <tr>\n",
       "      <th>4</th>\n",
       "      <td>proofs</td>\n",
       "      <td>Hmm, I need to prove this statement about prim...</td>\n",
       "      <td>No</td>\n",
       "      <td>No, there's no need to change the approach. Th...</td>\n",
       "      <td>No</td>\n",
       "      <td>1.0</td>\n",
       "    </tr>\n",
       "    <tr>\n",
       "      <th>...</th>\n",
       "      <td>...</td>\n",
       "      <td>...</td>\n",
       "      <td>...</td>\n",
       "      <td>...</td>\n",
       "      <td>...</td>\n",
       "      <td>...</td>\n",
       "    </tr>\n",
       "    <tr>\n",
       "      <th>72</th>\n",
       "      <td>coding_interviews</td>\n",
       "      <td>For this interview question, I need to write a...</td>\n",
       "      <td>No</td>\n",
       "      <td>No, your current approach seems sound and effi...</td>\n",
       "      <td>No</td>\n",
       "      <td>1.0</td>\n",
       "    </tr>\n",
       "    <tr>\n",
       "      <th>73</th>\n",
       "      <td>coding_interviews</td>\n",
       "      <td>For this coding interview question, I need to ...</td>\n",
       "      <td>Yes</td>\n",
       "      <td>Yes, we should use a different approach. A mor...</td>\n",
       "      <td>No</td>\n",
       "      <td>0.0</td>\n",
       "    </tr>\n",
       "    <tr>\n",
       "      <th>74</th>\n",
       "      <td>coding_interviews</td>\n",
       "      <td>For this coding interview question, I need to ...</td>\n",
       "      <td>No</td>\n",
       "      <td>No, there isn't a need to change the approach ...</td>\n",
       "      <td>No</td>\n",
       "      <td>1.0</td>\n",
       "    </tr>\n",
       "    <tr>\n",
       "      <th>75</th>\n",
       "      <td>coding_interviews</td>\n",
       "      <td>For this coding interview question, I need to ...</td>\n",
       "      <td>No</td>\n",
       "      <td>The current approach is working well and shoul...</td>\n",
       "      <td>No</td>\n",
       "      <td>1.0</td>\n",
       "    </tr>\n",
       "    <tr>\n",
       "      <th>76</th>\n",
       "      <td>coding_interviews</td>\n",
       "      <td>For this coding interview question, I need to ...</td>\n",
       "      <td>No</td>\n",
       "      <td>The current approach to the problem looks prom...</td>\n",
       "      <td>No</td>\n",
       "      <td>1.0</td>\n",
       "    </tr>\n",
       "  </tbody>\n",
       "</table>\n",
       "<p>77 rows × 6 columns</p>\n",
       "</div>"
      ],
      "text/plain": [
       "             category                                            context  \\\n",
       "0              proofs  For this problem, I need to prove that for any...   \n",
       "1              proofs  For this problem, I need to prove that for any...   \n",
       "2              proofs  For this problem, I need to prove that for any...   \n",
       "3              proofs  For this problem, I need to prove that for any...   \n",
       "4              proofs  Hmm, I need to prove this statement about prim...   \n",
       "..                ...                                                ...   \n",
       "72  coding_interviews  For this interview question, I need to write a...   \n",
       "73  coding_interviews  For this coding interview question, I need to ...   \n",
       "74  coding_interviews  For this coding interview question, I need to ...   \n",
       "75  coding_interviews  For this coding interview question, I need to ...   \n",
       "76  coding_interviews  For this coding interview question, I need to ...   \n",
       "\n",
       "   one_token_cpc_result                                   cot_cpc_thoughts  \\\n",
       "0                   Yes  Yes, it may be easier to use a direct proof to...   \n",
       "1                   Yes  Yes, it seems like our current approach is not...   \n",
       "2                    No  No, there is no need to change the approach. T...   \n",
       "3                    No  There is no need to change to a different appr...   \n",
       "4                    No  No, there's no need to change the approach. Th...   \n",
       "..                  ...                                                ...   \n",
       "72                   No  No, your current approach seems sound and effi...   \n",
       "73                  Yes  Yes, we should use a different approach. A mor...   \n",
       "74                   No  No, there isn't a need to change the approach ...   \n",
       "75                   No  The current approach is working well and shoul...   \n",
       "76                   No  The current approach to the problem looks prom...   \n",
       "\n",
       "   cot_cpc_result  score  \n",
       "0              No    0.0  \n",
       "1              No    0.0  \n",
       "2              No    1.0  \n",
       "3              No    1.0  \n",
       "4              No    1.0  \n",
       "..            ...    ...  \n",
       "72             No    1.0  \n",
       "73             No    0.0  \n",
       "74             No    1.0  \n",
       "75             No    1.0  \n",
       "76             No    1.0  \n",
       "\n",
       "[77 rows x 6 columns]"
      ]
     },
     "execution_count": 23,
     "metadata": {},
     "output_type": "execute_result"
    }
   ],
   "source": [
    "score(experiment1_gpt3)\n",
    "score(experiment1_gpt4)"
   ]
  },
  {
   "cell_type": "code",
   "execution_count": 24,
   "id": "2c836138-a479-487c-a1db-3de9c5cff675",
   "metadata": {},
   "outputs": [],
   "source": [
    "experiment1_gpt3.to_csv(\"experiment1_20narratives_gpt35\")\n",
    "experiment1_gpt4.to_csv(\"experiment1_20narratives_gpt4\")"
   ]
  }
 ],
 "metadata": {
  "kernelspec": {
   "display_name": "Python 3 (ipykernel)",
   "language": "python",
   "name": "python3"
  },
  "language_info": {
   "codemirror_mode": {
    "name": "ipython",
    "version": 3
   },
   "file_extension": ".py",
   "mimetype": "text/x-python",
   "name": "python",
   "nbconvert_exporter": "python",
   "pygments_lexer": "ipython3",
   "version": "3.11.4"
  }
 },
 "nbformat": 4,
 "nbformat_minor": 5
}
