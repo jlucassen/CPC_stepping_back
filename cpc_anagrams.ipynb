{
 "cells": [
  {
   "cell_type": "code",
   "execution_count": 16,
   "metadata": {},
   "outputs": [],
   "source": [
    "from cpc_pipeline import *\n",
    "\n",
    "from llm import LLM\n",
    "gpt35t = LLM(\"gpt-3.5-turbo\")\n",
    "gpt4 = LLM(\"gpt-4\")"
   ]
  },
  {
   "cell_type": "code",
   "execution_count": 17,
   "metadata": {},
   "outputs": [
    {
     "name": "stdout",
     "output_type": "stream",
     "text": [
      "Creating cpc_pipeline/make_caesar_cipher3286947891.csv...\n"
     ]
    }
   ],
   "source": [
    "import nltk\n",
    "import random\n",
    "\n",
    "filtered_corpus = [s for s in nltk.corpus.abc.words() if s.lower() == s]\n",
    "def make_caesar_cipher(word_length, shift):\n",
    "    word = random.choice([s for s in filtered_corpus if len(s) == word_length])\n",
    "    return ''.join([chr((ord(c) + shift - 97) % 26 + 97) for c in word]), word\n",
    "\n",
    "problem_df = cpc_problems(make_caesar_cipher, {'word_length': [3,4,5], 'shift':range(1, 6)}, n=1, unwrap_colnames=['problem', 'original'])"
   ]
  },
  {
   "cell_type": "code",
   "execution_count": 18,
   "metadata": {},
   "outputs": [
    {
     "name": "stdout",
     "output_type": "stream",
     "text": [
      "Creating cpc_pipeline/solve_caesar_gpt35t4090895247.csv...\n",
      "Creating cpc_pipeline/solve_caesar_gpt42184766945.csv...\n"
     ]
    }
   ],
   "source": [
    "prompt = \"This ciphertext is either an anagram or a Caesar cipher. First, assume it's an anagram, and try to unscramble it. If that doesn't work, continue by assuming it's a Caesar cipher and try to decrypt it. Don't give up until you decrypt it! Ciphertext: {ciphertext}\"\n",
    "false_start = \"Ok, I'll start by treating the ciphertext as an anagram and trying to unscramble it.\"\n",
    "\n",
    "def solve_caesar_gpt35t(problem):\n",
    "    return gpt35t.chat_completion_false_start(prompt.format(ciphertext=problem), false_start=false_start)\n",
    "\n",
    "def solve_caesar_gpt4(problem):\n",
    "    return gpt4.chat_completion_false_start(prompt.format(ciphertext=problem), false_start=false_start)\n",
    "\n",
    "context_df_35t = cpc_contexts(problem_df, solve_caesar_gpt35t)\n",
    "context_df_4 = cpc_contexts(problem_df, solve_caesar_gpt4)"
   ]
  },
  {
   "cell_type": "code",
   "execution_count": 19,
   "metadata": {},
   "outputs": [
    {
     "name": "stdout",
     "output_type": "stream",
     "text": [
      "0.06666666666666667\n",
      "0.4\n"
     ]
    }
   ],
   "source": [
    "context_df_35t['correct'] = context_df_35t.apply(lambda x: 1 if x['original'] in x['context'] else 0, axis=1)\n",
    "print(np.mean(context_df_35t['correct']))\n",
    "context_df_4['correct'] = context_df_4.apply(lambda x: 1 if x['original'] in x['context'] else 0, axis=1)\n",
    "print(np.mean(context_df_4['correct']))"
   ]
  },
  {
   "cell_type": "code",
   "execution_count": 20,
   "metadata": {},
   "outputs": [
    {
     "name": "stdout",
     "output_type": "stream",
     "text": [
      "After trying different combinations, I couldn't unscramble the ciphertext \"bsf\". Now, I will try to decrypt it assuming it's a Caesar cipher with a shift of 1.\n",
      "-----------------\n",
      "After trying different combinations, I couldn't unscramble \"vjg\" into a meaningful word. I will now try to decrypt it using a Caesar cipher.\n",
      "-----------------\n",
      "After trying to unscramble \"dqg\", it doesn't seem to form any meaningful word. Let's try decrypting it using a Caesar cipher with a shift of 1. \n",
      "\n",
      "Input: dqg\n",
      "Shift 1: erh\n",
      "\n",
      "After decrypting with a Caesar cipher shift of 1, the plaintext is \"erh\".\n",
      "-----------------\n",
      "After trying different combinations, I couldn't unscramble the ciphertext. Now, I will try to decrypt it assuming it's a Caesar cipher. I will try shifting the letters by different numbers to see if I can make sense of the message.\n",
      "-----------------\n",
      "After trying different combinations, I couldn't find a meaningful word. Let me now try decrypting it using a Caesar cipher.\n",
      "-----------------\n",
      "After trying different combinations, the ciphertext \"mjgf\" does not seem to unscabble into a meaningful word. Let's try decrypting it using a Caesar cipher with all possible shifts. \n",
      "\n",
      "Shift 1: \"m\" decodes to \"l\", \"j\" decodes to \"i\", \"g\" decodes to \"f\", \"f\" decodes to \"e\" \n",
      "Shift 2: \"m\" decodes to \"k\", \"j\" decodes to \"h\", \"g\" decodes to \"e\", \"f\" decodes to \"d\" \n",
      "Shift 3: \"m\" decodes to \"j\", \"j\" decodes to \"g\", \"g\" decodes to \"d\", \"f\" decodes to \"c\" \n",
      "Shift 4: \"m\" decodes to \"i\", \"j\" decodes to \"f\", \"g\" decodes to \"c\", \"f\" decodes to \"b\" \n",
      "Shift 5: \"m\" decodes to \"h\", \"j\" decodes to \"e\", \"g\" decodes to \"b\", \"f\" decodes to \"a\" \n",
      "Shift 6: \"m\" decodes to \"g\", \"j\" decodes to \"d\", \"g\" decodes to \"a\", \"f\" decodes to \"z\" \n",
      "Shift 7: \"m\" decodes to \"f\", \"j\" decodes to \"c\", \"g\" decodes to \"z\", \"f\" decodes to \"y\" \n",
      "\n",
      "Based on the decryption attempts, \"mjgf\" decrypted with a Caesar shift of 5 results in \"hedge\".\n",
      "-----------------\n",
      "After unscrambling the ciphertext \"xgta\", it can be rearranged to form the word \"gatx\". This doesn't seem to make sense, so I will now try decrypting it assuming it's a Caesar cipher. I will try all possible shifts until I find a meaningful message.\n",
      "-----------------\n",
      "After trying to unscamble the ciphertext \"grzq\", it doesn't seem to form a recognizable word. Let me now try assuming it's a Caesar cipher and decrypt it using all possible shifts.\n",
      "-----------------\n",
      "After trying different combinations of the letters, I was not able to unscramble the ciphertext as an anagram. Let me try decrypting it assuming it's a Caesar cipher with a shift of 3, which is a common choice.\n",
      "-----------------\n",
      "After unscrambling the letters, I was not able to make a meaningful word or phrase. I will now try to decrypt the ciphertext by assuming it's a Caesar cipher. I will try all possible shifts to see if I can decrypt it.\n",
      "-----------------\n",
      "After trying to unscramble \"gsvju\" unsuccessfully, I will now try decrypting it using a Caesar cipher. Let's start by shifting the letters by 1 position.\n",
      "-----------------\n",
      "After trying to unscramble the ciphertext \"uqwvj\", I wasn't able to find a meaningful word. I will now try to decrypt it assuming it's a Caesar cipher with a shift of 1.\n",
      "-----------------\n",
      "After unscrambling the letters, the possible plaintext is: vigil \n",
      "\n",
      "If that doesn't seem to make sense, I will now try decrypting it using a Caesar cipher.\n",
      "-----------------\n",
      "After trying different combinations, I couldn't unscramble the ciphertext as an anagram. Next, I'll try decrypting it as a Caesar cipher by shifting the letters.\n",
      "-----------------\n",
      "After trying different combinations, it looks like \"xyzid\" does not unscramble to a meaningful word. Next, I will try to decrypt it as a Caesar cipher.\n"
     ]
    }
   ],
   "source": [
    "print('\\n-----------------\\n'.join(context_df_35t['context']))"
   ]
  },
  {
   "cell_type": "code",
   "execution_count": null,
   "metadata": {},
   "outputs": [],
   "source": [
    "from new_switch_utils import make_non_decreasing\n",
    "\n",
    "anagram_switching_prompt = \"This is a reasoning transcript of an agent trying to decipher some ciphertext. The agent will start treating the ciphertext as an anagram and attempting to unscramble it. The agent may then give up and treat the ciphertext as a Caesar cipher instead. First you will be shown the full transcript, then just a prefix of the transcript. By the end of the prefix transcript, has the agent switched from treating the ciphertext as an anagram to treating it as a Caesar cipher yet?\"\n",
    "def judge_anagram_switching(context, prefix):\n",
    "        return 1 if gpt4.yesno_completion(anagram_switching_prompt+'\\n\\nFULL TRANSCRIPT:\\n'+context+'\\n\\nPREFIX TRANSCRIPT:\\n'+prefix+\"\\n\\nANSWER:\\n\") == 'Yes' else 0\n",
    "\n",
    "def split_and_judge_gpt4(context, chunk_size):\n",
    "    prefixes = [context[:pref_end] for pref_end in range(chunk_size, len(context)+chunk_size, chunk_size)]\n",
    "    measured_switching = [judge_anagram_switching(context, prefix) for prefix in prefixes]\n",
    "    processed_switching = random.choice(make_non_decreasing(measured_switching))\n",
    "    return prefixes, processed_switching\n",
    "\n",
    "switching_df_35t = split_and_judge_switching(context_df_35t, split_and_judge_gpt4, 50)\n",
    "switching_df_4 = split_and_judge_switching(context_df_4, split_and_judge_gpt4, 50)"
   ]
  },
  {
   "cell_type": "code",
   "execution_count": null,
   "metadata": {},
   "outputs": [],
   "source": [
    "anagram_cpc_prompt = \"\"\"At this point, we're going to stop and consider whether this approach is working or not \n",
    "              and leads to a correct solution to the problem being worked on. \n",
    "              Otherwise, we should step back and try a different approach.\"\"\"\n",
    "\n",
    "from solver import perform_one_token_cpc, perform_cot_cpc\n",
    "def gpt35t_1t(context):\n",
    "    return perform_one_token_cpc(gpt35t, context, prompt=anagram_cpc_prompt)\n",
    "def gpt35t_cot(context):\n",
    "    return perform_cot_cpc(gpt35t, context, prompt=anagram_cpc_prompt)\n",
    "def gpt4_1t(context):\n",
    "    return perform_one_token_cpc(gpt4, context, prompt=anagram_cpc_prompt)\n",
    "def gpt4_cot(context):\n",
    "    return perform_cot_cpc(gpt4, context, prompt=anagram_cpc_prompt)\n",
    "\n",
    "cpc_df_35t = judge_cpc(switching_df_35t, [gpt35t_1t, gpt35t_cot], radius_right=7)\n",
    "cpc_df_4 = judge_cpc(switching_df_4, [gpt4_1t, gpt4_cot], radius_right=7)"
   ]
  },
  {
   "cell_type": "code",
   "execution_count": null,
   "metadata": {},
   "outputs": [],
   "source": [
    "do_analysis(cpc_df_35t, [gpt35t_1t, gpt35t_cot])\n",
    "do_analysis(cpc_df_4, [gpt4_1t, gpt4_cot])"
   ]
  }
 ],
 "metadata": {
  "kernelspec": {
   "display_name": "censored-cognition",
   "language": "python",
   "name": "python3"
  },
  "language_info": {
   "codemirror_mode": {
    "name": "ipython",
    "version": 3
   },
   "file_extension": ".py",
   "mimetype": "text/x-python",
   "name": "python",
   "nbconvert_exporter": "python",
   "pygments_lexer": "ipython3",
   "version": "3.11.0"
  }
 },
 "nbformat": 4,
 "nbformat_minor": 2
}
