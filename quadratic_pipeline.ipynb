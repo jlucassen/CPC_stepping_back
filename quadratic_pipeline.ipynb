{
 "cells": [
  {
   "cell_type": "code",
   "execution_count": 1,
   "metadata": {},
   "outputs": [],
   "source": [
    "import os\n",
    "import dotenv\n",
    "from termcolor import colored\n",
    "import json\n",
    "import numpy as np\n",
    "import pandas as pd\n",
    "import matplotlib.pyplot as plt\n",
    "from tqdm import tqdm\n",
    "\n",
    "from llm import LLM\n",
    "\n",
    "dotenv.load_dotenv()\n",
    "gpt35t = LLM(\"gpt-3.5-turbo\")\n",
    "gpt4 = LLM(\"gpt-4\")"
   ]
  },
  {
   "cell_type": "markdown",
   "metadata": {},
   "source": [
    "## 1. Make quadratic problems"
   ]
  },
  {
   "cell_type": "code",
   "execution_count": null,
   "metadata": {},
   "outputs": [],
   "source": [
    "from make_quadratic_problems import make_quadratic_problem\n",
    "\n",
    "dotenv.load_dotenv()\n",
    "llm = LLM(\"gpt-3.5-turbo\")\n",
    "\n",
    "for max in range(5, 50, 5):\n",
    "    for factorable in [True, False]:\n",
    "        filename = f'data/quadratic_problems/quadratic_problems_{max}_{factorable}.jsonl'\n",
    "        if not os.path.exists(filename):\n",
    "            print(f\"Making problems ({max=}, {factorable=}), saving to {filename}\", 'blue')\n",
    "            with open(f'data/quadratic_problems/quadratic_problems_{max}_{factorable}.jsonl', 'w') as outfile:\n",
    "                for _ in range(100):\n",
    "                    outfile.write(make_quadratic_problem(max, factorable) + '\\n')\n",
    "        else:\n",
    "            print(colored(f\"Skipping making problems ({max=}, {factorable=}) because {filename} already exists\", 'blue'))"
   ]
  },
  {
   "cell_type": "markdown",
   "metadata": {},
   "source": [
    "## 2. Make quadratic-solving contexts with GPT-3.5-turbo and GPT-4"
   ]
  },
  {
   "cell_type": "code",
   "execution_count": null,
   "metadata": {},
   "outputs": [],
   "source": [
    "from make_quadratic_contexts import solve_quadratic_problems\n",
    "\n",
    "# prompt is an unprincipled DoF here.\n",
    "# pros: makes expected switching behavior clear\n",
    "# cons: model is still in \"assisstant mode\", not \"trying to solve the problem as efficiently as possible mode\"\n",
    "prompt = \"Please find the roots of the quadratic equation {equation}. Start by trying to factor the equation. If you can't factor it, then use the quadratic formula. If you factor the equation successfully, do not use the quadratic formula.\"\n",
    "\n",
    "# remember to force feed the model so it starts by attempting factoring! Otherwise switch rate will be too low.\n",
    "false_start = \"First, I'll try solving this equation by factoring.\"\n",
    "\n",
    "for llm in [gpt35t, gpt4]:\n",
    "    for problem_filename in os.listdir('data/quadratic_problems'):\n",
    "        outfile = f'data/quadratic_contexts_{llm.model_name}/' + str.replace(problem_filename, 'problem', 'context')\n",
    "        if not os.path.exists(outfile):\n",
    "            print(f\"Solving problems in {problem_filename}, writing to {outfile}\")\n",
    "            solve_quadratic_problems(problem_filename, prompt, false_start, llm)\n",
    "        else:\n",
    "            print(colored(f\"Skipping solving problems in {problem_filename} because {outfile} already exists\", 'blue'))"
   ]
  },
  {
   "cell_type": "code",
   "execution_count": null,
   "metadata": {},
   "outputs": [],
   "source": [
    "\n",
    "for dir in ['data/quadratic_contexts_gpt-3.5-turbo/', 'data/quadratic_contexts_gpt-4/']:\n",
    "    for filename in os.listdir(dir):\n",
    "        split_name = filename.split('_')\n",
    "        difficulty = split_name[-2]\n",
    "        is_factorizable = split_name[-1].split('.')[0]\n",
    "        with open(dir+'/'+filename, 'r') as f:\n",
    "            v = np.mean(['formula' in line for line in f.readlines()])\n",
    "            plt.plot(int(difficulty), v, 'ro' if is_factorizable == 'True' else 'bo')\n",
    "    plt.title(dir)\n",
    "    plt.xlabel('difficulty parameter')\n",
    "    plt.ylabel('proportion of problems solved with formula')\n",
    "    plt.ylim(0, 1)\n",
    "    red_dot, = plt.plot([], [], 'ro', label='factorizable')\n",
    "    blue_dot, = plt.plot([], [], 'bo', label='not factorizable')\n",
    "    plt.legend(handles=[red_dot, blue_dot])\n",
    "    plt.show()\n",
    "            "
   ]
  },
  {
   "cell_type": "markdown",
   "metadata": {},
   "source": [
    "## 3. Split contexts into prefixes, judge switching, and load into a dataframe"
   ]
  },
  {
   "cell_type": "code",
   "execution_count": null,
   "metadata": {},
   "outputs": [],
   "source": [
    "from new_switch_utils import make_non_decreasing, original_4\n",
    "\n",
    "pref_res = 50"
   ]
  },
  {
   "cell_type": "code",
   "execution_count": 39,
   "metadata": {},
   "outputs": [
    {
     "name": "stdout",
     "output_type": "stream",
     "text": [
      "\u001b[34mSkipping making passages_35t because it already exists\u001b[0m\n"
     ]
    }
   ],
   "source": [
    "if not os.path.exists('data/passages_35t.csv'):\n",
    "    print(\"Making passages_35t\")\n",
    "    passages_35t = []\n",
    "    for filename in tqdm(os.listdir('data/quadratic_contexts_gpt-3.5-turbo')):\n",
    "        # filename has format quadratic_contexts_[difficulty]_[is_factorizable].jsonl\n",
    "        # Each jsonl file is a list of objects, one json object per line. each object has 'equation' and 'context' field\n",
    "        split_name = filename.split('_')\n",
    "        difficulty = split_name[-2]\n",
    "        is_factorizable = split_name[-1].split('.')[0]\n",
    "\n",
    "        with open('data/quadratic_contexts_gpt-3.5-turbo/'+filename, 'r') as f:\n",
    "            for line in f.readlines():\n",
    "                line_contents = json.loads(line)\n",
    "                prefixes = [line_contents['context'][:pref_end] for pref_end in range(pref_res, len(line), pref_res)]\n",
    "                measured_switching = [original_4(line_contents['context'], prefix) for prefix in prefixes]\n",
    "                processed_switching = make_non_decreasing(measured_switching)\n",
    "                switch_index = processed_switching.index(1) if 1 in processed_switching else len(processed_switching[0])\n",
    "                for i, prefix in enumerate(prefixes):\n",
    "                    passages_35t.append({\n",
    "                        'prefix': prefix,\n",
    "                        'difficulty': difficulty,\n",
    "                        'is_factorizable': 'Yes' if is_factorizable == 'True' else 'No',\n",
    "                        'context': line_contents['context'],\n",
    "                        'equation': line_contents['equation'],\n",
    "                        'measured_switching': measured_switching,\n",
    "                        'processed_switching': processed_switching,\n",
    "                        'index': i,\n",
    "                        'switch_index': switch_index\n",
    "                    })\n",
    "    passages_35t = pd.DataFrame(passages_35t)\n",
    "    passages_35t.to_csv('data/passages_35t.csv')\n",
    "else:\n",
    "    print(colored(\"Skipping making passages_35t because it already exists\", 'blue'))\n",
    "    passages_35t = pd.read_csv('data/passages_35t.csv')\n",
    "    passages_35t['measured_switching'] = passages_35t['measured_switching'].apply(lambda x: [int(x) for x in x.strip(\"[]\").split(\", \")])\n",
    "    passages_35t['processed_switching'] = passages_35t['processed_switching'].apply(lambda x: [int(x) for x in x.strip(\"[]\").split(\", \")])\n"
   ]
  },
  {
   "cell_type": "code",
   "execution_count": 40,
   "metadata": {},
   "outputs": [
    {
     "data": {
      "image/png": "[encoded data removed]",
      "text/plain": [
       "<Figure size 640x480 with 1 Axes>"
      ]
     },
     "metadata": {},
     "output_type": "display_data"
    }
   ],
   "source": [
    "# plt.hist(passages_4['switch_index'])\n",
    "# plt.show()\n",
    "plt.hist(passages_35t['switch_index'])\n",
    "plt.show()"
   ]
  },
  {
   "cell_type": "code",
   "execution_count": 3,
   "metadata": {},
   "outputs": [
    {
     "data": {
      "text/plain": [
       "17827    First, let's try to factor the quadratic equat...\n",
       "3379     First, let's try to factor the quadratic equat...\n",
       "3630     To factor the quadratic equation 36x^2 - 1368x...\n",
       "7225     To factor the quadratic equation 40x^2 - 1480x...\n",
       "4080     To factor the quadratic equation 13x^2 - 598x ...\n",
       "10528    To factor the quadratic equation 5x^2 - 25x + ...\n",
       "1592     First, let's try to factor the quadratic equat...\n",
       "11838    First, let's attempt to factor the quadratic e...\n",
       "220      To factor the equation 5x^2 - 255x + 2890 = 0,...\n",
       "13806    To factor the equation 1x^2 - 18x + 86 = 0, we...\n",
       "Name: prefix, dtype: object"
      ]
     },
     "execution_count": 3,
     "metadata": {},
     "output_type": "execute_result"
    }
   ],
   "source": [
    "passages_35t_sample = passages_35t.sample(10)\n",
    "passages_35t_sample['prefix']"
   ]
  },
  {
   "cell_type": "markdown",
   "metadata": {},
   "source": [
    "## 4. Assess 1t and COT CPC for prefixes"
   ]
  },
  {
   "cell_type": "code",
   "execution_count": 13,
   "metadata": {},
   "outputs": [],
   "source": [
    "import concurrent.futures as futures\n",
    "from solver import perform_one_token_cpc, perform_cot_cpc\n",
    "\n",
    "def process_row(llm, row):\n",
    "    row['cpc_one_token'] = perform_one_token_cpc(llm, row['prefix'])\n",
    "    cot, answer = perform_cot_cpc(llm, row['prefix'])\n",
    "    row['cpc_cot_thoughts'] = cot\n",
    "    row['cpc_cot_answer'] = answer\n",
    "    return row\n",
    "\n",
    "def experiment2(llm, passages: pd.DataFrame) -> pd.DataFrame:\n",
    "    \"\"\"\n",
    "    Processes the rows in the given dataframe which have not already been processed.\n",
    "\n",
    "    :dataframe: a dataframe with at least columns 'equation', 'difficulty', 'is_factorizable', and 'context'.\n",
    "    Some rows may already have been processed, in which case they will have 'one_token_cpc_result' and 'cot_cpc_result'\n",
    "    columns, or else a value in the 'error' column.\n",
    "    :return: dataframe with the results of processing all rows in the given `passages` dataframe\n",
    "    \"\"\"\n",
    "    # turn passages into a rows dict including index (id, numerical)\n",
    "    rows = []\n",
    "    try:\n",
    "        with futures.ThreadPoolExecutor() as executor:\n",
    "            row_futures = [executor.submit(process_row, llm, row) for row in passages.to_dict(orient='records')]\n",
    "            for future in tqdm(futures.as_completed(row_futures), total=len(row_futures)):\n",
    "                if future.exception():\n",
    "                    print(f'Error processing row: {type(future.exception())} {str(future.exception())}')\n",
    "                    continue\n",
    "                rows.append(future.result())\n",
    "    except Exception as e:\n",
    "        print(f'Error processing rows: {type(e)} {str(e)}')\n",
    "    finally:\n",
    "        return pd.DataFrame(rows)"
   ]
  },
  {
   "cell_type": "code",
   "execution_count": 43,
   "metadata": {},
   "outputs": [
    {
     "name": "stderr",
     "output_type": "stream",
     "text": [
      "100%|██████████| 100/100 [00:27<00:00,  3.70it/s]\n"
     ]
    }
   ],
   "source": [
    "passages_35t_sample = passages_35t.sample(100)\n",
    "\n",
    "test = experiment2(gpt35t, passages_35t_sample)\n",
    "test.to_csv('gpt35t_experiment2_test.csv', index=False)"
   ]
  },
  {
   "cell_type": "markdown",
   "metadata": {},
   "source": [
    "## 5. Save results and analyze"
   ]
  },
  {
   "cell_type": "code",
   "execution_count": 60,
   "metadata": {},
   "outputs": [
    {
     "data": {
      "image/png": "[encoded data removed]",
      "text/plain": [
       "<Figure size 1000x600 with 1 Axes>"
      ]
     },
     "metadata": {},
     "output_type": "display_data"
    }
   ],
   "source": [
    "test['dist_to_switch'] = test['index'] - test['switch_index']\n",
    "test['cpc_one_token_numeric'] = test['cpc_one_token'].map({'Yes': 1, 'No': 0})\n",
    "test['cpc_cot'] = test['cpc_cot'].map({'Yes': 1, 'No': 0})\n",
    "\n",
    "# Then, we can group the data by 'dist_to_switch' and calculate the mean of 'cpc_one_token_numeric'\n",
    "grouped_1t = test.groupby('dist_to_switch')['cpc_one_token_numeric'].mean().reset_index()\n",
    "grouped_cot = test.groupby('dist_to_switch')['cpc_cot'].mean().reset_index()\n",
    "\n",
    "# Now, we can plot the data\n",
    "plt.figure(figsize=(10, 6))\n",
    "plt.scatter(grouped_1t['dist_to_switch'], grouped_1t['cpc_one_token_numeric'], s=10)\n",
    "plt.scatter(grouped_cot['dist_to_switch'], grouped_cot['cpc_cot'], s=10, color='red')\n",
    "plt.xlabel('Distance to Switch')\n",
    "plt.ylabel('Average CPC One Token')\n",
    "plt.show()"
   ]
  },
  {
   "cell_type": "markdown",
   "metadata": {},
   "source": []
  },
  {
   "cell_type": "code",
   "execution_count": null,
   "metadata": {},
   "outputs": [],
   "source": []
  }
 ],
 "metadata": {
  "kernelspec": {
   "display_name": "censored-cognition",
   "language": "python",
   "name": "python3"
  },
  "language_info": {
   "codemirror_mode": {
    "name": "ipython",
    "version": 3
   },
   "file_extension": ".py",
   "mimetype": "text/x-python",
   "name": "python",
   "nbconvert_exporter": "python",
   "pygments_lexer": "ipython3",
   "version": "3.11.0"
  }
 },
 "nbformat": 4,
 "nbformat_minor": 2
}
