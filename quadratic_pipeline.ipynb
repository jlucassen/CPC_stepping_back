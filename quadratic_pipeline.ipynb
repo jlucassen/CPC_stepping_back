{
 "cells": [
  {
   "cell_type": "code",
   "execution_count": 43,
   "metadata": {},
   "outputs": [],
   "source": [
    "import os\n",
    "import dotenv\n",
    "from termcolor import colored\n",
    "import json\n",
    "import numpy as np\n",
    "import pandas as pd\n",
    "\n",
    "from llm import LLM\n",
    "\n",
    "dotenv.load_dotenv()\n",
    "gpt35t = LLM(\"gpt-3.5-turbo\")\n",
    "gpt4 = LLM(\"gpt-4\")"
   ]
  },
  {
   "cell_type": "markdown",
   "metadata": {},
   "source": [
    "## 1. Make quadratic problems"
   ]
  },
  {
   "cell_type": "code",
   "execution_count": 44,
   "metadata": {},
   "outputs": [
    {
     "name": "stdout",
     "output_type": "stream",
     "text": [
      "\u001b[34mSkipping making problems (max=5, factorable=True) because data/quadratic_problems/quadratic_problems_5_True.jsonl already exists\u001b[0m\n",
      "\u001b[34mSkipping making problems (max=5, factorable=False) because data/quadratic_problems/quadratic_problems_5_False.jsonl already exists\u001b[0m\n",
      "\u001b[34mSkipping making problems (max=10, factorable=True) because data/quadratic_problems/quadratic_problems_10_True.jsonl already exists\u001b[0m\n",
      "\u001b[34mSkipping making problems (max=10, factorable=False) because data/quadratic_problems/quadratic_problems_10_False.jsonl already exists\u001b[0m\n",
      "\u001b[34mSkipping making problems (max=15, factorable=True) because data/quadratic_problems/quadratic_problems_15_True.jsonl already exists\u001b[0m\n",
      "\u001b[34mSkipping making problems (max=15, factorable=False) because data/quadratic_problems/quadratic_problems_15_False.jsonl already exists\u001b[0m\n",
      "\u001b[34mSkipping making problems (max=20, factorable=True) because data/quadratic_problems/quadratic_problems_20_True.jsonl already exists\u001b[0m\n",
      "\u001b[34mSkipping making problems (max=20, factorable=False) because data/quadratic_problems/quadratic_problems_20_False.jsonl already exists\u001b[0m\n",
      "\u001b[34mSkipping making problems (max=25, factorable=True) because data/quadratic_problems/quadratic_problems_25_True.jsonl already exists\u001b[0m\n",
      "\u001b[34mSkipping making problems (max=25, factorable=False) because data/quadratic_problems/quadratic_problems_25_False.jsonl already exists\u001b[0m\n",
      "\u001b[34mSkipping making problems (max=30, factorable=True) because data/quadratic_problems/quadratic_problems_30_True.jsonl already exists\u001b[0m\n",
      "\u001b[34mSkipping making problems (max=30, factorable=False) because data/quadratic_problems/quadratic_problems_30_False.jsonl already exists\u001b[0m\n",
      "\u001b[34mSkipping making problems (max=35, factorable=True) because data/quadratic_problems/quadratic_problems_35_True.jsonl already exists\u001b[0m\n",
      "\u001b[34mSkipping making problems (max=35, factorable=False) because data/quadratic_problems/quadratic_problems_35_False.jsonl already exists\u001b[0m\n",
      "\u001b[34mSkipping making problems (max=40, factorable=True) because data/quadratic_problems/quadratic_problems_40_True.jsonl already exists\u001b[0m\n",
      "\u001b[34mSkipping making problems (max=40, factorable=False) because data/quadratic_problems/quadratic_problems_40_False.jsonl already exists\u001b[0m\n",
      "\u001b[34mSkipping making problems (max=45, factorable=True) because data/quadratic_problems/quadratic_problems_45_True.jsonl already exists\u001b[0m\n",
      "\u001b[34mSkipping making problems (max=45, factorable=False) because data/quadratic_problems/quadratic_problems_45_False.jsonl already exists\u001b[0m\n"
     ]
    }
   ],
   "source": [
    "from make_quadratic_problems import make_quadratic_problem\n",
    "\n",
    "dotenv.load_dotenv()\n",
    "llm = LLM(\"gpt-3.5-turbo\")\n",
    "\n",
    "for max in range(5, 50, 5):\n",
    "    for factorable in [True, False]:\n",
    "        filename = f'data/quadratic_problems/quadratic_problems_{max}_{factorable}.jsonl'\n",
    "        if not os.path.exists(filename):\n",
    "            print(f\"Making problems ({max=}, {factorable=}), saving to {filename}\", 'blue')\n",
    "            with open(f'data/quadratic_problems/quadratic_problems_{max}_{factorable}.jsonl', 'w') as outfile:\n",
    "                for _ in range(100):\n",
    "                    outfile.write(make_quadratic_problem(max, factorable) + '\\n')\n",
    "        else:\n",
    "            print(colored(f\"Skipping making problems ({max=}, {factorable=}) because {filename} already exists\", 'blue'))"
   ]
  },
  {
   "cell_type": "markdown",
   "metadata": {},
   "source": [
    "## 2. Make quadratic-solving contexts with GPT-3.5-turbo and GPT-4"
   ]
  },
  {
   "cell_type": "code",
   "execution_count": 45,
   "metadata": {},
   "outputs": [
    {
     "name": "stdout",
     "output_type": "stream",
     "text": [
      "\u001b[34mSkipping solving problems in quadratic_problems_10_True.jsonl because data/quadratic_contexts_gpt-3.5-turbo/quadratic_contexts_10_True.jsonl already exists\u001b[0m\n",
      "\u001b[34mSkipping solving problems in quadratic_problems_5_False.jsonl because data/quadratic_contexts_gpt-3.5-turbo/quadratic_contexts_5_False.jsonl already exists\u001b[0m\n",
      "\u001b[34mSkipping solving problems in quadratic_problems_45_True.jsonl because data/quadratic_contexts_gpt-3.5-turbo/quadratic_contexts_45_True.jsonl already exists\u001b[0m\n",
      "\u001b[34mSkipping solving problems in quadratic_problems_15_True.jsonl because data/quadratic_contexts_gpt-3.5-turbo/quadratic_contexts_15_True.jsonl already exists\u001b[0m\n",
      "\u001b[34mSkipping solving problems in quadratic_problems_40_True.jsonl because data/quadratic_contexts_gpt-3.5-turbo/quadratic_contexts_40_True.jsonl already exists\u001b[0m\n",
      "\u001b[34mSkipping solving problems in quadratic_problems_25_True.jsonl because data/quadratic_contexts_gpt-3.5-turbo/quadratic_contexts_25_True.jsonl already exists\u001b[0m\n",
      "\u001b[34mSkipping solving problems in quadratic_problems_10_False.jsonl because data/quadratic_contexts_gpt-3.5-turbo/quadratic_contexts_10_False.jsonl already exists\u001b[0m\n",
      "\u001b[34mSkipping solving problems in quadratic_problems_15_False.jsonl because data/quadratic_contexts_gpt-3.5-turbo/quadratic_contexts_15_False.jsonl already exists\u001b[0m\n",
      "\u001b[34mSkipping solving problems in quadratic_problems_20_True.jsonl because data/quadratic_contexts_gpt-3.5-turbo/quadratic_contexts_20_True.jsonl already exists\u001b[0m\n",
      "\u001b[34mSkipping solving problems in quadratic_problems_5_True.jsonl because data/quadratic_contexts_gpt-3.5-turbo/quadratic_contexts_5_True.jsonl already exists\u001b[0m\n",
      "\u001b[34mSkipping solving problems in quadratic_problems_45_False.jsonl because data/quadratic_contexts_gpt-3.5-turbo/quadratic_contexts_45_False.jsonl already exists\u001b[0m\n",
      "\u001b[34mSkipping solving problems in quadratic_problems_35_False.jsonl because data/quadratic_contexts_gpt-3.5-turbo/quadratic_contexts_35_False.jsonl already exists\u001b[0m\n",
      "\u001b[34mSkipping solving problems in quadratic_problems_20_False.jsonl because data/quadratic_contexts_gpt-3.5-turbo/quadratic_contexts_20_False.jsonl already exists\u001b[0m\n",
      "\u001b[34mSkipping solving problems in quadratic_problems_25_False.jsonl because data/quadratic_contexts_gpt-3.5-turbo/quadratic_contexts_25_False.jsonl already exists\u001b[0m\n",
      "\u001b[34mSkipping solving problems in quadratic_problems_30_False.jsonl because data/quadratic_contexts_gpt-3.5-turbo/quadratic_contexts_30_False.jsonl already exists\u001b[0m\n",
      "\u001b[34mSkipping solving problems in quadratic_problems_40_False.jsonl because data/quadratic_contexts_gpt-3.5-turbo/quadratic_contexts_40_False.jsonl already exists\u001b[0m\n",
      "\u001b[34mSkipping solving problems in quadratic_problems_30_True.jsonl because data/quadratic_contexts_gpt-3.5-turbo/quadratic_contexts_30_True.jsonl already exists\u001b[0m\n",
      "\u001b[34mSkipping solving problems in quadratic_problems_35_True.jsonl because data/quadratic_contexts_gpt-3.5-turbo/quadratic_contexts_35_True.jsonl already exists\u001b[0m\n",
      "\u001b[34mSkipping solving problems in quadratic_problems_10_True.jsonl because data/quadratic_contexts_gpt-4/quadratic_contexts_10_True.jsonl already exists\u001b[0m\n",
      "\u001b[34mSkipping solving problems in quadratic_problems_5_False.jsonl because data/quadratic_contexts_gpt-4/quadratic_contexts_5_False.jsonl already exists\u001b[0m\n",
      "\u001b[34mSkipping solving problems in quadratic_problems_45_True.jsonl because data/quadratic_contexts_gpt-4/quadratic_contexts_45_True.jsonl already exists\u001b[0m\n",
      "\u001b[34mSkipping solving problems in quadratic_problems_15_True.jsonl because data/quadratic_contexts_gpt-4/quadratic_contexts_15_True.jsonl already exists\u001b[0m\n",
      "\u001b[34mSkipping solving problems in quadratic_problems_40_True.jsonl because data/quadratic_contexts_gpt-4/quadratic_contexts_40_True.jsonl already exists\u001b[0m\n",
      "\u001b[34mSkipping solving problems in quadratic_problems_25_True.jsonl because data/quadratic_contexts_gpt-4/quadratic_contexts_25_True.jsonl already exists\u001b[0m\n",
      "\u001b[34mSkipping solving problems in quadratic_problems_10_False.jsonl because data/quadratic_contexts_gpt-4/quadratic_contexts_10_False.jsonl already exists\u001b[0m\n",
      "\u001b[34mSkipping solving problems in quadratic_problems_15_False.jsonl because data/quadratic_contexts_gpt-4/quadratic_contexts_15_False.jsonl already exists\u001b[0m\n",
      "\u001b[34mSkipping solving problems in quadratic_problems_20_True.jsonl because data/quadratic_contexts_gpt-4/quadratic_contexts_20_True.jsonl already exists\u001b[0m\n",
      "\u001b[34mSkipping solving problems in quadratic_problems_5_True.jsonl because data/quadratic_contexts_gpt-4/quadratic_contexts_5_True.jsonl already exists\u001b[0m\n",
      "\u001b[34mSkipping solving problems in quadratic_problems_45_False.jsonl because data/quadratic_contexts_gpt-4/quadratic_contexts_45_False.jsonl already exists\u001b[0m\n",
      "\u001b[34mSkipping solving problems in quadratic_problems_35_False.jsonl because data/quadratic_contexts_gpt-4/quadratic_contexts_35_False.jsonl already exists\u001b[0m\n",
      "\u001b[34mSkipping solving problems in quadratic_problems_20_False.jsonl because data/quadratic_contexts_gpt-4/quadratic_contexts_20_False.jsonl already exists\u001b[0m\n",
      "\u001b[34mSkipping solving problems in quadratic_problems_25_False.jsonl because data/quadratic_contexts_gpt-4/quadratic_contexts_25_False.jsonl already exists\u001b[0m\n",
      "\u001b[34mSkipping solving problems in quadratic_problems_30_False.jsonl because data/quadratic_contexts_gpt-4/quadratic_contexts_30_False.jsonl already exists\u001b[0m\n",
      "\u001b[34mSkipping solving problems in quadratic_problems_40_False.jsonl because data/quadratic_contexts_gpt-4/quadratic_contexts_40_False.jsonl already exists\u001b[0m\n",
      "\u001b[34mSkipping solving problems in quadratic_problems_30_True.jsonl because data/quadratic_contexts_gpt-4/quadratic_contexts_30_True.jsonl already exists\u001b[0m\n",
      "\u001b[34mSkipping solving problems in quadratic_problems_35_True.jsonl because data/quadratic_contexts_gpt-4/quadratic_contexts_35_True.jsonl already exists\u001b[0m\n"
     ]
    }
   ],
   "source": [
    "from make_quadratic_contexts import solve_quadratic_problems\n",
    "\n",
    "# prompt is an unprincipled DoF here.\n",
    "# pros: makes expected switching behavior clear\n",
    "# cons: model is still in \"assisstant mode\", not \"trying to solve the problem as efficiently as possible mode\"\n",
    "prompt = \"Please find the roots of the quadratic equation {equation}. Start by trying to factor the equation. If you can't factor it, then use the quadratic formula. If you factor the equation successfully, do not use the quadratic formula.\"\n",
    "\n",
    "# remember to force feed the model so it starts by attempting factoring! Otherwise switch rate will be too low.\n",
    "false_start = \"First, I'll try solving this equation by factoring.\"\n",
    "\n",
    "for llm in [gpt35t, gpt4]:\n",
    "    for problem_filename in os.listdir('data/quadratic_problems'):\n",
    "        outfile = f'data/quadratic_contexts_{llm.model_name}/' + str.replace(problem_filename, 'problem', 'context')\n",
    "        if not os.path.exists(outfile):\n",
    "            print(f\"Solving problems in {problem_filename}, writing to {outfile}\")\n",
    "            solve_quadratic_problems(problem_filename, prompt, false_start, llm)\n",
    "        else:\n",
    "            print(colored(f\"Skipping solving problems in {problem_filename} because {outfile} already exists\", 'blue'))"
   ]
  },
  {
   "cell_type": "markdown",
   "metadata": {},
   "source": [
    "## 3. Split contexts into prefixes, judge switching, and load into a dataframe"
   ]
  },
  {
   "cell_type": "code",
   "execution_count": 47,
   "metadata": {},
   "outputs": [],
   "source": [
    "from new_switch_utils import make_non_decreasing, original_4\n",
    "\n",
    "pref_res = 50"
   ]
  },
  {
   "cell_type": "code",
   "execution_count": 54,
   "metadata": {},
   "outputs": [],
   "source": [
    "token_count = 0\n",
    "\n",
    "passages_35t = []\n",
    "for filename in os.listdir('data/quadratic_contexts_gpt-3.5-turbo'):\n",
    "    # filename has format quadratic_contexts_[difficulty]_[is_factorizable].jsonl\n",
    "    # Each jsonl file is a list of objects, one json object per line. each object has 'equation' and 'context' field\n",
    "    split_name = filename.split('_')\n",
    "    difficulty = split_name[-2]\n",
    "    is_factorizable = split_name[-1].split('.')[0]\n",
    "\n",
    "    with open('data/quadratic_contexts_gpt-3.5-turbo/'+filename, 'r') as f:\n",
    "        for line in f.readlines():\n",
    "            line_contents = json.loads(line)\n",
    "            prefixes = [line_contents['context'][:pref_end] for pref_end in range(pref_res, len(line), pref_res)]\n",
    "            # measured_switching = [original_4(line_contents['context'], prefix) for prefix in prefixes]\n",
    "            # processed_switching = make_non_decreasing(measured_switching)\n",
    "            for prefix in prefixes:\n",
    "                token_count += len(gpt4.encoding.encode(prefix)) + len(gpt4.encoding.encode('context')) \n",
    "                passages_35t.append({\n",
    "                    'prefix': prefix,\n",
    "                    'difficulty': difficulty,\n",
    "                    'is_factorizable': 'Yes' if is_factorizable == 'True' else 'No',\n",
    "                    'context': line_contents['context'],\n",
    "                    'equation': line_contents['equation'],\n",
    "                    #'measured_switching': measured_switching,\n",
    "                    #'processed_switching': processed_switching\n",
    "                })\n",
    "passages_35t = pd.DataFrame(passages_35t)\n",
    "passages_35t.to_csv('data/passages_35t.csv')"
   ]
  },
  {
   "cell_type": "code",
   "execution_count": 55,
   "metadata": {},
   "outputs": [
    {
     "data": {
      "text/plain": [
       "2465984"
      ]
     },
     "execution_count": 55,
     "metadata": {},
     "output_type": "execute_result"
    }
   ],
   "source": [
    "token_count"
   ]
  },
  {
   "cell_type": "markdown",
   "metadata": {},
   "source": [
    "## 4. Assess 1t and COT CPC for prefixes"
   ]
  },
  {
   "cell_type": "markdown",
   "metadata": {},
   "source": [
    "## 5. Save results and analyze"
   ]
  }
 ],
 "metadata": {
  "kernelspec": {
   "display_name": "censored-cognition",
   "language": "python",
   "name": "python3"
  },
  "language_info": {
   "codemirror_mode": {
    "name": "ipython",
    "version": 3
   },
   "file_extension": ".py",
   "mimetype": "text/x-python",
   "name": "python",
   "nbconvert_exporter": "python",
   "pygments_lexer": "ipython3",
   "version": "3.11.0"
  }
 },
 "nbformat": 4,
 "nbformat_minor": 2
}
